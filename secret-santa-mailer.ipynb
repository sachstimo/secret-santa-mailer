{
 "cells": [
  {
   "cell_type": "markdown",
   "metadata": {},
   "source": [
    "## Secret Santa Emailer 🎅\n",
    "\n",
    "Ho ho ho! Welcome to the Secret Santa Mailer! This jolly Python script magically pulls names from Santa's hat and sends delightful emails to each Secret Santa, revealing their lucky gift recipient. With the help of pandas, smtplib, and a sprinkle of holiday cheer, it ensures that no one knows who their Secret Santa is... not even you! So, get ready to spread the joy and have a Merry Christmas! 🎄✨"
   ]
  },
  {
   "cell_type": "code",
   "execution_count": null,
   "metadata": {},
   "outputs": [],
   "source": [
    "import pandas as pd\n",
    "import random\n",
    "import smtplib\n",
    "from email.mime.text import MIMEText\n",
    "from email.mime.multipart import MIMEMultipart\n",
    "\n",
    "SMTP_SERVER = \"smtp.gmail.com\"\n",
    "SMTP_PORT = 587\n",
    "SENDER_EMAIL = \"your-email@gmail.com\"  \n",
    "SENDER_PASSWORD = \"app password\"  # Replace with your app password (different from account PW)"
   ]
  },
  {
   "cell_type": "markdown",
   "metadata": {},
   "source": [
    "## Loading your participants data"
   ]
  },
  {
   "cell_type": "code",
   "execution_count": null,
   "metadata": {},
   "outputs": [],
   "source": [
    "file_path = \"Secret Santa Participants List.xlsx\" # Change this to the path of your Excel file\n",
    "data = pd.read_excel(file_path)\n",
    "\n",
    "data.columns = [\"Name\", \"Email\", \"Preferences\"]\n",
    "data = data.dropna(subset=[\"Name\", \"Email\"]).reset_index(drop=True)"
   ]
  },
  {
   "cell_type": "markdown",
   "metadata": {},
   "source": [
    "## Assign Secret Santa Names"
   ]
  },
  {
   "cell_type": "code",
   "execution_count": null,
   "metadata": {},
   "outputs": [],
   "source": [
    "def assign_secret_santa(names):\n",
    "    assignments = names[:]\n",
    "    while any(a == b for a, b in zip(assignments, names)):\n",
    "        random.shuffle(assignments)\n",
    "    return assignments\n",
    "\n",
    "names = data[\"Name\"].tolist()\n",
    "emails = data[\"Email\"].tolist()\n",
    "preferences = data[\"Preferences\"].tolist()\n",
    "data[\"Preferences\"] = data[\"Preferences\"].fillna(\"\")\n",
    "\n",
    "assignments = assign_secret_santa(names)\n",
    "\n",
    "pairs = {\n",
    "    \"Santa\": names,\n",
    "    \"Santa_Email\": emails,\n",
    "    \"Recipient\": assignments,\n",
    "    \"Recipient_Preferences\": [preferences[names.index(rec)] if rec in names else \"\" for rec in assignments]\n",
    "}\n",
    "\n",
    "pairs_df = pd.DataFrame(pairs)\n",
    "# display(pairs_df) <- Uncomment this line to display the assignments in the console (to check for quality)\n",
    "pairs_df.to_excel(\"SecretSanta_Assignments_SECRET.xlsx\", index=False) # This file will store the final assignments - keep it secret! or "
   ]
  },
  {
   "cell_type": "markdown",
   "metadata": {},
   "source": [
    "## Prepare Email text"
   ]
  },
  {
   "cell_type": "code",
   "execution_count": null,
   "metadata": {},
   "outputs": [],
   "source": [
    "def send_email(santa_name, santa_email, recipient_name, recipient_preferences, test_mode= False):\n",
    "    # Adjust the below email text as you want!\n",
    "    subject = \"Your Secret Santa Assignment!\"\n",
    "    body = f\"\"\"\n",
    "    Dear {santa_name},\n",
    "\n",
    "    🎅 Thank you for participating in Secret Santa! 🎁\n",
    "    \n",
    "    Your recipient is: {recipient_name}\n",
    "    Preferences: {recipient_preferences if recipient_preferences else \"No specific preferences provided\"}\n",
    "    \n",
    "    Happy gifting!\n",
    "\n",
    "    Best,\n",
    "\n",
    "    Your Secret Santa Bot\n",
    "    \"\"\"\n",
    "\n",
    "    msg = MIMEMultipart()\n",
    "    msg[\"From\"] = SENDER_EMAIL\n",
    "    msg[\"To\"] = santa_email if not test_mode else SENDER_EMAIL  # Send to sender in test mode\n",
    "    msg[\"Subject\"] = subject\n",
    "    msg.attach(MIMEText(body, \"plain\"))\n",
    "\n",
    "    with smtplib.SMTP(SMTP_SERVER, SMTP_PORT) as server:\n",
    "        server.ehlo()\n",
    "        server.starttls()\n",
    "        server.ehlo()\n",
    "        server.login(SENDER_EMAIL, SENDER_PASSWORD)\n",
    "        server.sendmail(SENDER_EMAIL, msg[\"To\"], msg.as_string())\n",
    "\n",
    "    print(f\"Email sent to {'test recipient' if test_mode else santa_email}.\")"
   ]
  },
  {
   "cell_type": "markdown",
   "metadata": {},
   "source": [
    "## Make sure everything works correctly\n",
    "\n",
    "Send a brief test email to your owner (sender account) to make sure it works"
   ]
  },
  {
   "cell_type": "code",
   "execution_count": null,
   "metadata": {},
   "outputs": [],
   "source": [
    "send_email(\"test sender\", SENDER_EMAIL, \"test recipient\", \"test preferences\", test_mode=True) "
   ]
  },
  {
   "cell_type": "markdown",
   "metadata": {},
   "source": [
    "## Final Step: Send out Emails\n",
    "\n",
    "Uncomment the lines below to send the E-mail to every santa!"
   ]
  },
  {
   "cell_type": "code",
   "execution_count": null,
   "metadata": {},
   "outputs": [],
   "source": [
    "# for santa, santa_email, recipient, recipient_preferences in zip(\n",
    "#     pairs[\"Santa\"], pairs[\"Santa_Email\"], pairs[\"Recipient\"], pairs[\"Recipient_Preferences\"]\n",
    "# ):\n",
    "#     send_email(santa, santa_email, recipient, recipient_preferences)"
   ]
  }
 ],
 "metadata": {
  "kernelspec": {
   "display_name": "base",
   "language": "python",
   "name": "python3"
  },
  "language_info": {
   "codemirror_mode": {
    "name": "ipython",
    "version": 3
   },
   "file_extension": ".py",
   "mimetype": "text/x-python",
   "name": "python",
   "nbconvert_exporter": "python",
   "pygments_lexer": "ipython3",
   "version": "3.12.3"
  }
 },
 "nbformat": 4,
 "nbformat_minor": 2
}
